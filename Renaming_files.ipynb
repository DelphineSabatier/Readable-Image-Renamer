{
 "cells": [
  {
   "cell_type": "code",
   "execution_count": null,
   "metadata": {},
   "outputs": [],
   "source": [
    "import os\n",
    "from PIL import Image\n",
    "import io\n",
    "import shutil"
   ]
  },
  {
   "cell_type": "markdown",
   "metadata": {},
   "source": [
    "# Objective : Check if readable + Rename all the files as follows: P{Dossier_id}{Photo_id}.jpg \n",
    "\n",
    "Dossier_id = 3 chiffres de forme : 10X avec X va de 1 à 5 \\\n",
    "Photo_id = 4 chiffres \n",
    "\n",
    "### Several names format to correct : \n",
    "  - X{Dossier_id}{Photo_id}.JPG \n",
    "  - X{Dossier_id}{Photo_id}-T{1 ou 2}\n",
    "  - Panasonic DC-GX9 {resolution}_00{Photo_id}.JPG\n",
    "  - Panasonic DC-GX9 {resolution}_00{Photo_id}.JPG\n",
    "  - file {resolution}_00{Photo_id}.JPG \n",
    "  - _{Dossier_id}{Photo_id}.JPG\n",
    "  - ._P{Dossier_id}{Photo_id}.JPG"
   ]
  },
  {
   "cell_type": "markdown",
   "metadata": {},
   "source": [
    "# Test if the image is readable"
   ]
  },
  {
   "cell_type": "code",
   "execution_count": null,
   "metadata": {},
   "outputs": [],
   "source": [
    "# Define the function is_image_readable : to test if the file can be read.\n",
    "def is_image_readable(file_path):\n",
    "    try:\n",
    "        with open(file_path, 'rb') as f:\n",
    "            image_data = f.read()\n",
    "            Image.open(io.BytesIO(image_data)).verify()\n",
    "        return True\n",
    "    except Exception as e:\n",
    "        print(f\"Error: {e}\")\n",
    "        return False"
   ]
  },
  {
   "cell_type": "code",
   "execution_count": null,
   "metadata": {},
   "outputs": [],
   "source": [
    "# Test for one file if the readable function is working. -> yes\n",
    "file_path = \"../P1041395.JPG\"\n",
    "if is_image_readable(file_path):\n",
    "    print(f\"The image at {file_path} is readable.\")\n",
    "else:\n",
    "    print(f\"The image at {file_path} is not readable.\")"
   ]
  },
  {
   "cell_type": "code",
   "execution_count": null,
   "metadata": {},
   "outputs": [],
   "source": [
    "# Moving all readable files to a new folder called 'lisible'.\n",
    "folder_path = \"../photo recup_easyrecovery/#Racine/DCIM/105_PANA\"\n",
    "output_folder = \"../lisible/from_easyrecovery\""
   ]
  },
  {
   "cell_type": "code",
   "execution_count": null,
   "metadata": {},
   "outputs": [],
   "source": [
    "# Warning: need to reboot computer to see the new folder and content.\n",
    "if not os.path.exists(output_folder):\n",
    "    os.makedirs(output_folder)\n",
    "\n",
    "# Moving every readable file to the new folder 'lisible'\n",
    "for filename in os.listdir(folder_path):\n",
    "    file_path = os.path.join(folder_path, filename)\n",
    "    if is_image_readable(file_path):\n",
    "        print(f\"The image at {file_path} is readable. Moving to 'lisible' folder.\")\n",
    "        shutil.move(file_path, os.path.join(output_folder, filename))\n",
    "    else:\n",
    "        print(f\"The image at {file_path} is not readable.\")\n"
   ]
  },
  {
   "cell_type": "markdown",
   "metadata": {},
   "source": [
    "## Checking permissions : I have the writing and reading permission"
   ]
  },
  {
   "cell_type": "code",
   "execution_count": null,
   "metadata": {},
   "outputs": [],
   "source": [
    "def check_permissions(directory_path):\n",
    "    try:\n",
    "        # Attempt to read the directory\n",
    "        with os.scandir(directory_path) as entries:\n",
    "            for entry in entries:\n",
    "                pass  # You can perform additional actions if needed\n",
    "        print(f\"Read permission granted for {directory_path}\")\n",
    "\n",
    "        # Attempt to write a temporary file\n",
    "        test_file_path = os.path.join(directory_path, 'temp_file.txt')\n",
    "        with open(test_file_path, 'w') as test_file:\n",
    "            test_file.write('Test content')\n",
    "        os.remove(test_file_path)\n",
    "        print(f\"Write permission granted for {directory_path}\")\n",
    "\n",
    "    except PermissionError as e:\n",
    "        print(f\"Permission error: {e}\")\n",
    "    except Exception as e:\n",
    "        print(f\"An unexpected error occurred: {e}\")"
   ]
  },
  {
   "cell_type": "code",
   "execution_count": null,
   "metadata": {},
   "outputs": [],
   "source": [
    "# Replace '/path/to/your/directory' with the actual path you want to check\n",
    "directory_to_check = '/Volumes/T7/Photos/2023/Norvege'\n",
    "check_permissions(directory_to_check)"
   ]
  },
  {
   "cell_type": "markdown",
   "metadata": {},
   "source": [
    "# Renaming : First, let's test the function on the list of names. (not actual files)"
   ]
  },
  {
   "cell_type": "code",
   "execution_count": null,
   "metadata": {},
   "outputs": [],
   "source": [
    "# renaming files from_recup_only_lisible\n",
    "\n",
    "new_names = []\n",
    "filenames = os.listdir('../lisible/from_recup_photo_only_lisible')\n",
    "\n",
    "for filename in filenames :\n",
    "    if filename.startswith(\"X\"):\n",
    "        new_filename = f\"P{filename[1:]}\"\n",
    "    if filename.startswith(\"file 5184x2920\"):\n",
    "        new_filename = f\"P{filename[15:].zfill(4)}\"\n",
    "    elif file.startswith('_'):\n",
    "        new_filename = f\"P{filename}\"\n",
    "    elif filename.startswith('._X'):\n",
    "        new_filename = f\"._P{filename[3:]}\"\n",
    "    elif filename.startswith('Panasonic DC-GX9'):\n",
    "        new_filename = f\"P0{filename.rsplit('_', 1)[1][:6].zfill(4)}.jpg\"\n",
    "    else:\n",
    "        new_filename = filename\n",
    "\n",
    "    counter = 1\n",
    "\n",
    "    while new_filename in new_names:\n",
    "        new_filename = f'P{new_filename}_{counter}'\n",
    "        counter += 1\n",
    "\n",
    "    concat_filename = f\"{new_filename} from {filename}\"\n",
    "\n",
    "    new_names.append(concat_filename)\n",
    "\n",
    "new_names"
   ]
  },
  {
   "cell_type": "markdown",
   "metadata": {},
   "source": [
    "# Renaming : Phase 2 -> Renaming the files !"
   ]
  },
  {
   "cell_type": "code",
   "execution_count": null,
   "metadata": {},
   "outputs": [],
   "source": [
    "# Need to adjust folder name\n",
    "files = os.listdir('../lisible/from_easyrecovery')\n",
    "new_names = []\n",
    "path = \"../lisible/from_easyrecovery\"\n",
    "\n",
    "for file in files:\n",
    "    if file.startswith(\"X\"):\n",
    "        new_file = f\"P{file[1:]}\"\n",
    "    elif file.startswith(\"_\"):\n",
    "        new_file = f\"P{file[1:]}\"\n",
    "    elif file.startswith(\"file 5184x2920_\"):\n",
    "        new_filename = f\"P{file[15:].zfill(4)}\"\n",
    "    elif file.startswith(\"file 5184x3888_\"):\n",
    "        new_filename = f\"P{file[15:].zfill(4)}\"\n",
    "    elif file.startswith('._X'):\n",
    "        new_file = f\"._P{file[3:]}\"\n",
    "    elif file.startswith('Panasonic DC-GX9'):\n",
    "        new_file = f\"P0{file.rsplit('_', 1)[1][:6].zfill(4)}.jpg\"\n",
    "    else:\n",
    "        new_file = file\n",
    "\n",
    "    counter = 1\n",
    "    while new_file in new_names:\n",
    "        new_file = f'P{new_file}_{counter}'\n",
    "        counter += 1\n",
    "\n",
    "    # path_new_file = os.path.join(os.path.dirname(file), new_file)\n",
    "    path_new_file = os.path.join(path, new_file)\n",
    "    path_file = os.path.join(path, file)\n",
    "    print(\"file\", file)\n",
    "    print(path_new_file)\n",
    "    print(new_file)\n",
    "\n",
    "    try:\n",
    "        os.rename(path_file, path_new_file)\n",
    "        print(f'Renamed {file} to {new_file}')\n",
    "    except FileNotFoundError:\n",
    "        print(f'Error: File not found - {file}')\n",
    "    except Exception as e:\n",
    "        print(f'Error: An unexpected error occurred - {e}')\n"
   ]
  },
  {
   "cell_type": "code",
   "execution_count": null,
   "metadata": {},
   "outputs": [],
   "source": []
  }
 ],
 "metadata": {
  "kernelspec": {
   "display_name": "lewagon",
   "language": "python",
   "name": "python3"
  },
  "language_info": {
   "codemirror_mode": {
    "name": "ipython",
    "version": 3
   },
   "file_extension": ".py",
   "mimetype": "text/x-python",
   "name": "python",
   "nbconvert_exporter": "python",
   "pygments_lexer": "ipython3",
   "version": "3.10.6"
  }
 },
 "nbformat": 4,
 "nbformat_minor": 2
}
